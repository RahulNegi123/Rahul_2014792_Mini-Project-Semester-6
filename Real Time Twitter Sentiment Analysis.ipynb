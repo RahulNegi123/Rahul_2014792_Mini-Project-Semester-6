{
  "nbformat": 4,
  "nbformat_minor": 0,
  "metadata": {
    "colab": {
      "name": "Untitled0.ipynb",
      "provenance": [],
      "collapsed_sections": []
    },
    "kernelspec": {
      "name": "python3",
      "display_name": "Python 3"
    },
    "language_info": {
      "name": "python"
    }
  },
  "cells": [
    {
      "cell_type": "markdown",
      "source": [
        "***INSTALLING ALL THE REQUIRED MODULES***"
      ],
      "metadata": {
        "id": "RIodcZrjM_I7"
      }
    },
    {
      "cell_type": "code",
      "source": [
        "!pip install tweepy --ignore-installed\n",
        "!pip install flair"
      ],
      "metadata": {
        "id": "Lo5mU4Z_NEF6"
      },
      "execution_count": null,
      "outputs": []
    },
    {
      "cell_type": "markdown",
      "source": [
        "***FOR GETTING ACCESS TO TWITTER API***"
      ],
      "metadata": {
        "id": "vna8TeWVNd7a"
      }
    },
    {
      "cell_type": "code",
      "source": [
        "bearer = \"AAAAAAAAAAAAAAAAAAAAALoCeQEAAAAAnmzlBbdkEcR9SOAV1N3obklts6w%3DRT0n2m2XvkHtVZFOKueLDOiax4ch2xw4HJq2OusW625EuPLwVw\"\n",
        "consumer_key = \"TzLKpD6ptPYcPlbBGTDItxGGW\"\n",
        "consumer_secret = \"QuL8sc4sSVSzP97Xag1IfRvqynmsC3O6YdBFWAS2UIL2Skjtm7\" \n",
        "access_token = \"1159447442456137728-Bj23ePEo5VIHMIdqTFpNS93SqSdFdV\"\n",
        "access_token_secret = \"eNcX0OQgQ3SWsXStDowTHCJ2KFwdzqJpmUOxMynCSSdyp\""
      ],
      "metadata": {
        "id": "yguI_gNDNtgi"
      },
      "execution_count": null,
      "outputs": []
    },
    {
      "cell_type": "markdown",
      "source": [
        "***IMPORTING ALL THE REQUIRED MODULES***"
      ],
      "metadata": {
        "id": "PPi4lJVVNzKz"
      }
    },
    {
      "cell_type": "code",
      "source": [
        "import tweepy\n",
        "import re\n",
        "import time\n",
        "\n",
        "from flair.models import TextClassifier\n",
        "from flair.data import Sentence"
      ],
      "metadata": {
        "id": "arZZ8-eyN-zS"
      },
      "execution_count": null,
      "outputs": []
    },
    {
      "cell_type": "markdown",
      "source": [
        "***CREATING A CONNECTION WITH TWITTER API***"
      ],
      "metadata": {
        "id": "TxAE_aj7OD3c"
      }
    },
    {
      "cell_type": "code",
      "source": [
        "api = tweepy.Client(bearer, consumer_key, consumer_secret, access_token, access_token_secret)\n",
        "#Check if the connection was successful\n",
        "api.get_me()"
      ],
      "metadata": {
        "id": "YtHAG3PaOO1y"
      },
      "execution_count": null,
      "outputs": []
    },
    {
      "cell_type": "markdown",
      "source": [
        "***TESTING TWEEPY***"
      ],
      "metadata": {
        "id": "_gmoOqBSOecd"
      }
    },
    {
      "cell_type": "code",
      "source": [
        "response = api.search_recent_tweets('#india')\n",
        "\n",
        "tweets = response.data\n",
        "for tweet in tweets:\n",
        "    print(tweet.text)\n",
        "    print('******************************************************************')"
      ],
      "metadata": {
        "id": "m9ruwNgPOnyK"
      },
      "execution_count": null,
      "outputs": []
    },
    {
      "cell_type": "markdown",
      "source": [
        "***PREPROCESSING AND CLEANING THE TEXT***"
      ],
      "metadata": {
        "id": "TzJfRWcyO7Gr"
      }
    },
    {
      "cell_type": "code",
      "source": [
        "def preprocess_text(text):\n",
        "    text = text.lower()\n",
        "    # remove user handle\n",
        "    text = re.sub(\"@[\\w]*\", \"\", text)\n",
        "    # remove http links\n",
        "    text = re.sub(\"http\\S+\", \"\", text)\n",
        "    # remove digits and spl characters\n",
        "    text = re.sub(\"[^a-zA-Z#]\", \" \", text)\n",
        "    # remove rt characters\n",
        "    text = re.sub(\"rt\", \"\", text)\n",
        "    # remove additional spaces\n",
        "    text = re.sub(\"\\s+\", \" \", text)\n",
        "\n",
        "    return text"
      ],
      "metadata": {
        "id": "BE7bKLNxO9w9"
      },
      "execution_count": null,
      "outputs": []
    },
    {
      "cell_type": "markdown",
      "source": [
        "***TESTING NORMAL VS PRE-PROCESSED TWEET***"
      ],
      "metadata": {
        "id": "MWooUOC0PG0D"
      }
    },
    {
      "cell_type": "code",
      "source": [
        "tweet.text"
      ],
      "metadata": {
        "id": "h8gEq_t9PPqa"
      },
      "execution_count": null,
      "outputs": []
    },
    {
      "cell_type": "code",
      "source": [
        "preprocess_text(tweet.text)"
      ],
      "metadata": {
        "id": "Zad5OhqfPRU6"
      },
      "execution_count": null,
      "outputs": []
    },
    {
      "cell_type": "markdown",
      "source": [
        "***CREATING SENTIMENT ANALYSIS FUNCTION USING PRE-TRAINED MODEL FLAIR***"
      ],
      "metadata": {
        "id": "vYOixy5IPTNJ"
      }
    },
    {
      "cell_type": "code",
      "source": [
        "classifier = TextClassifier.load('en-sentiment') #Set the language to English\n",
        "def get_sentiment(tweet):\n",
        "    sentence = Sentence(tweet)\n",
        "    classifier.predict(sentence)\n",
        "    return str(sentence.labels).split(\"\\'\")[3]"
      ],
      "metadata": {
        "id": "RJzfEbCbPiR3"
      },
      "execution_count": null,
      "outputs": []
    },
    {
      "cell_type": "markdown",
      "source": [
        "***GETTING REAL-TIME TWEETS AND ANALYSING THEM***"
      ],
      "metadata": {
        "id": "MAazk3DwP0xb"
      }
    },
    {
      "cell_type": "code",
      "source": [
        "while True:\n",
        "    # get tweets (10 tweets)\n",
        "    tweets = api.search_recent_tweets('#udaipur').data\n",
        "\n",
        "    for tweet in tweets:\n",
        "        original_tweet = tweet.text\n",
        "        clean_tweet = preprocess_text(original_tweet)\n",
        "        sentiment = get_sentiment(clean_tweet)\n",
        "\n",
        "        print('*****************************Tweet**********************************')\n",
        "        print(original_tweet)\n",
        "        print('*******************************************************************')\n",
        "        print('Sentiment:', sentiment)\n",
        "        time.sleep(1)\n",
        "        print('\\n\\n\\n')"
      ],
      "metadata": {
        "id": "U_lbHr46P5Rn"
      },
      "execution_count": null,
      "outputs": []
    }
  ]
}